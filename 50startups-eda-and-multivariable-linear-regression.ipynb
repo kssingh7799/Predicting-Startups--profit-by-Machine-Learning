{
 "cells": [
  {
   "cell_type": "code",
   "execution_count": 1,
   "id": "19b34065",
   "metadata": {
    "execution": {
     "iopub.execute_input": "2022-02-16T07:37:09.364050Z",
     "iopub.status.busy": "2022-02-16T07:37:09.362785Z",
     "iopub.status.idle": "2022-02-16T07:37:10.454173Z",
     "shell.execute_reply": "2022-02-16T07:37:10.454703Z",
     "shell.execute_reply.started": "2022-02-16T07:35:28.853165Z"
    },
    "id": "3ff5479e",
    "jupyter": {
     "source_hidden": true
    },
    "papermill": {
     "duration": 1.151878,
     "end_time": "2022-02-16T07:37:10.455120",
     "exception": false,
     "start_time": "2022-02-16T07:37:09.303242",
     "status": "completed"
    },
    "tags": []
   },
   "outputs": [],
   "source": [
    "import numpy as np\n",
    "import pandas as pd\n",
    "import seaborn as sns\n",
    "import matplotlib.pyplot as plt"
   ]
  },
  {
   "cell_type": "code",
   "execution_count": 2,
   "id": "18d8aceb",
   "metadata": {
    "execution": {
     "iopub.execute_input": "2022-02-16T07:37:10.569750Z",
     "iopub.status.busy": "2022-02-16T07:37:10.568741Z",
     "iopub.status.idle": "2022-02-16T07:37:10.580038Z",
     "shell.execute_reply": "2022-02-16T07:37:10.580673Z",
     "shell.execute_reply.started": "2022-02-16T07:35:29.343787Z"
    },
    "papermill": {
     "duration": 0.071142,
     "end_time": "2022-02-16T07:37:10.580876",
     "exception": false,
     "start_time": "2022-02-16T07:37:10.509734",
     "status": "completed"
    },
    "tags": []
   },
   "outputs": [
    {
     "name": "stdout",
     "output_type": "stream",
     "text": [
      "/kaggle/input/50-startups-data/50_Startups.csv\n"
     ]
    }
   ],
   "source": [
    "# This Python 3 environment comes with many helpful analytics libraries installed\n",
    "# It is defined by the kaggle/python Docker image: https://github.com/kaggle/docker-python\n",
    "# For example, here's several helpful packages to load\n",
    "\n",
    "import numpy as np # linear algebra\n",
    "import pandas as pd # data processing, CSV file I/O (e.g. pd.read_csv)\n",
    "\n",
    "# Input data files are available in the read-only \"../input/\" directory\n",
    "# For example, running this (by clicking run or pressing Shift+Enter) will list all files under the input directory\n",
    "\n",
    "import os\n",
    "for dirname, _, filenames in os.walk('/kaggle/input'):\n",
    "    for filename in filenames:\n",
    "        print(os.path.join(dirname, filename))\n",
    "\n",
    "# You can write up to 20GB to the current directory (/kaggle/working/) that gets preserved as output when you create a version using \"Save & Run All\" \n",
    "# You can also write temporary files to /kaggle/temp/, but they won't be saved outside of the current session"
   ]
  },
  {
   "cell_type": "code",
   "execution_count": 3,
   "id": "c917b7ec",
   "metadata": {
    "execution": {
     "iopub.execute_input": "2022-02-16T07:37:10.699157Z",
     "iopub.status.busy": "2022-02-16T07:37:10.698362Z",
     "iopub.status.idle": "2022-02-16T07:37:10.729813Z",
     "shell.execute_reply": "2022-02-16T07:37:10.730366Z",
     "shell.execute_reply.started": "2022-02-16T07:35:29.360835Z"
    },
    "id": "68866d86",
    "outputId": "1f660c3b-8f91-4af3-a8ce-23a4cf789dff",
    "papermill": {
     "duration": 0.094707,
     "end_time": "2022-02-16T07:37:10.730576",
     "exception": false,
     "start_time": "2022-02-16T07:37:10.635869",
     "status": "completed"
    },
    "tags": []
   },
   "outputs": [
    {
     "data": {
      "text/html": [
       "<div>\n",
       "<style scoped>\n",
       "    .dataframe tbody tr th:only-of-type {\n",
       "        vertical-align: middle;\n",
       "    }\n",
       "\n",
       "    .dataframe tbody tr th {\n",
       "        vertical-align: top;\n",
       "    }\n",
       "\n",
       "    .dataframe thead th {\n",
       "        text-align: right;\n",
       "    }\n",
       "</style>\n",
       "<table border=\"1\" class=\"dataframe\">\n",
       "  <thead>\n",
       "    <tr style=\"text-align: right;\">\n",
       "      <th></th>\n",
       "      <th>R&amp;D Spend</th>\n",
       "      <th>Administration</th>\n",
       "      <th>Marketing Spend</th>\n",
       "      <th>State</th>\n",
       "      <th>Profit</th>\n",
       "    </tr>\n",
       "  </thead>\n",
       "  <tbody>\n",
       "    <tr>\n",
       "      <th>0</th>\n",
       "      <td>165349.20</td>\n",
       "      <td>136897.80</td>\n",
       "      <td>471784.10</td>\n",
       "      <td>New York</td>\n",
       "      <td>192261.83</td>\n",
       "    </tr>\n",
       "    <tr>\n",
       "      <th>1</th>\n",
       "      <td>162597.70</td>\n",
       "      <td>151377.59</td>\n",
       "      <td>443898.53</td>\n",
       "      <td>California</td>\n",
       "      <td>191792.06</td>\n",
       "    </tr>\n",
       "    <tr>\n",
       "      <th>2</th>\n",
       "      <td>153441.51</td>\n",
       "      <td>101145.55</td>\n",
       "      <td>407934.54</td>\n",
       "      <td>Florida</td>\n",
       "      <td>191050.39</td>\n",
       "    </tr>\n",
       "    <tr>\n",
       "      <th>3</th>\n",
       "      <td>144372.41</td>\n",
       "      <td>118671.85</td>\n",
       "      <td>383199.62</td>\n",
       "      <td>New York</td>\n",
       "      <td>182901.99</td>\n",
       "    </tr>\n",
       "    <tr>\n",
       "      <th>4</th>\n",
       "      <td>142107.34</td>\n",
       "      <td>91391.77</td>\n",
       "      <td>366168.42</td>\n",
       "      <td>Florida</td>\n",
       "      <td>166187.94</td>\n",
       "    </tr>\n",
       "  </tbody>\n",
       "</table>\n",
       "</div>"
      ],
      "text/plain": [
       "   R&D Spend  Administration  Marketing Spend       State     Profit\n",
       "0  165349.20       136897.80        471784.10    New York  192261.83\n",
       "1  162597.70       151377.59        443898.53  California  191792.06\n",
       "2  153441.51       101145.55        407934.54     Florida  191050.39\n",
       "3  144372.41       118671.85        383199.62    New York  182901.99\n",
       "4  142107.34        91391.77        366168.42     Florida  166187.94"
      ]
     },
     "execution_count": 3,
     "metadata": {},
     "output_type": "execute_result"
    }
   ],
   "source": [
    "data=pd.read_csv('../input/50-startups-data/50_Startups.csv')\n",
    "data.head()"
   ]
  },
  {
   "cell_type": "code",
   "execution_count": 4,
   "id": "cb09be0d",
   "metadata": {
    "execution": {
     "iopub.execute_input": "2022-02-16T07:37:10.854127Z",
     "iopub.status.busy": "2022-02-16T07:37:10.853086Z",
     "iopub.status.idle": "2022-02-16T07:37:10.865154Z",
     "shell.execute_reply": "2022-02-16T07:37:10.864508Z",
     "shell.execute_reply.started": "2022-02-16T07:35:29.388703Z"
    },
    "id": "59f95a7e",
    "outputId": "9ef5dcbd-9852-4b00-b7b8-8299239f3dc9",
    "papermill": {
     "duration": 0.07759,
     "end_time": "2022-02-16T07:37:10.865340",
     "exception": false,
     "start_time": "2022-02-16T07:37:10.787750",
     "status": "completed"
    },
    "tags": []
   },
   "outputs": [
    {
     "data": {
      "text/plain": [
       "R&D Spend          0\n",
       "Administration     0\n",
       "Marketing Spend    0\n",
       "State              0\n",
       "Profit             0\n",
       "dtype: int64"
      ]
     },
     "execution_count": 4,
     "metadata": {},
     "output_type": "execute_result"
    }
   ],
   "source": [
    "data.isna().sum()"
   ]
  },
  {
   "cell_type": "code",
   "execution_count": 5,
   "id": "70da9561",
   "metadata": {
    "execution": {
     "iopub.execute_input": "2022-02-16T07:37:10.991382Z",
     "iopub.status.busy": "2022-02-16T07:37:10.989965Z",
     "iopub.status.idle": "2022-02-16T07:37:11.025661Z",
     "shell.execute_reply": "2022-02-16T07:37:11.024946Z",
     "shell.execute_reply.started": "2022-02-16T07:35:29.399201Z"
    },
    "id": "79b1889b",
    "outputId": "1c5ba59c-06a8-424e-a69e-15582b70688e",
    "papermill": {
     "duration": 0.103474,
     "end_time": "2022-02-16T07:37:11.025828",
     "exception": false,
     "start_time": "2022-02-16T07:37:10.922354",
     "status": "completed"
    },
    "tags": []
   },
   "outputs": [
    {
     "data": {
      "text/html": [
       "<div>\n",
       "<style scoped>\n",
       "    .dataframe tbody tr th:only-of-type {\n",
       "        vertical-align: middle;\n",
       "    }\n",
       "\n",
       "    .dataframe tbody tr th {\n",
       "        vertical-align: top;\n",
       "    }\n",
       "\n",
       "    .dataframe thead th {\n",
       "        text-align: right;\n",
       "    }\n",
       "</style>\n",
       "<table border=\"1\" class=\"dataframe\">\n",
       "  <thead>\n",
       "    <tr style=\"text-align: right;\">\n",
       "      <th></th>\n",
       "      <th>R&amp;D Spend</th>\n",
       "      <th>Administration</th>\n",
       "      <th>Marketing Spend</th>\n",
       "      <th>State</th>\n",
       "      <th>Profit</th>\n",
       "    </tr>\n",
       "  </thead>\n",
       "  <tbody>\n",
       "    <tr>\n",
       "      <th>count</th>\n",
       "      <td>50.000000</td>\n",
       "      <td>50.000000</td>\n",
       "      <td>50.000000</td>\n",
       "      <td>50</td>\n",
       "      <td>50.000000</td>\n",
       "    </tr>\n",
       "    <tr>\n",
       "      <th>unique</th>\n",
       "      <td>NaN</td>\n",
       "      <td>NaN</td>\n",
       "      <td>NaN</td>\n",
       "      <td>3</td>\n",
       "      <td>NaN</td>\n",
       "    </tr>\n",
       "    <tr>\n",
       "      <th>top</th>\n",
       "      <td>NaN</td>\n",
       "      <td>NaN</td>\n",
       "      <td>NaN</td>\n",
       "      <td>New York</td>\n",
       "      <td>NaN</td>\n",
       "    </tr>\n",
       "    <tr>\n",
       "      <th>freq</th>\n",
       "      <td>NaN</td>\n",
       "      <td>NaN</td>\n",
       "      <td>NaN</td>\n",
       "      <td>17</td>\n",
       "      <td>NaN</td>\n",
       "    </tr>\n",
       "    <tr>\n",
       "      <th>mean</th>\n",
       "      <td>73721.615600</td>\n",
       "      <td>121344.639600</td>\n",
       "      <td>211025.097800</td>\n",
       "      <td>NaN</td>\n",
       "      <td>112012.639200</td>\n",
       "    </tr>\n",
       "    <tr>\n",
       "      <th>std</th>\n",
       "      <td>45902.256482</td>\n",
       "      <td>28017.802755</td>\n",
       "      <td>122290.310726</td>\n",
       "      <td>NaN</td>\n",
       "      <td>40306.180338</td>\n",
       "    </tr>\n",
       "    <tr>\n",
       "      <th>min</th>\n",
       "      <td>0.000000</td>\n",
       "      <td>51283.140000</td>\n",
       "      <td>0.000000</td>\n",
       "      <td>NaN</td>\n",
       "      <td>14681.400000</td>\n",
       "    </tr>\n",
       "    <tr>\n",
       "      <th>25%</th>\n",
       "      <td>39936.370000</td>\n",
       "      <td>103730.875000</td>\n",
       "      <td>129300.132500</td>\n",
       "      <td>NaN</td>\n",
       "      <td>90138.902500</td>\n",
       "    </tr>\n",
       "    <tr>\n",
       "      <th>50%</th>\n",
       "      <td>73051.080000</td>\n",
       "      <td>122699.795000</td>\n",
       "      <td>212716.240000</td>\n",
       "      <td>NaN</td>\n",
       "      <td>107978.190000</td>\n",
       "    </tr>\n",
       "    <tr>\n",
       "      <th>75%</th>\n",
       "      <td>101602.800000</td>\n",
       "      <td>144842.180000</td>\n",
       "      <td>299469.085000</td>\n",
       "      <td>NaN</td>\n",
       "      <td>139765.977500</td>\n",
       "    </tr>\n",
       "    <tr>\n",
       "      <th>max</th>\n",
       "      <td>165349.200000</td>\n",
       "      <td>182645.560000</td>\n",
       "      <td>471784.100000</td>\n",
       "      <td>NaN</td>\n",
       "      <td>192261.830000</td>\n",
       "    </tr>\n",
       "  </tbody>\n",
       "</table>\n",
       "</div>"
      ],
      "text/plain": [
       "            R&D Spend  Administration  Marketing Spend     State  \\\n",
       "count       50.000000       50.000000        50.000000        50   \n",
       "unique            NaN             NaN              NaN         3   \n",
       "top               NaN             NaN              NaN  New York   \n",
       "freq              NaN             NaN              NaN        17   \n",
       "mean     73721.615600   121344.639600    211025.097800       NaN   \n",
       "std      45902.256482    28017.802755    122290.310726       NaN   \n",
       "min          0.000000    51283.140000         0.000000       NaN   \n",
       "25%      39936.370000   103730.875000    129300.132500       NaN   \n",
       "50%      73051.080000   122699.795000    212716.240000       NaN   \n",
       "75%     101602.800000   144842.180000    299469.085000       NaN   \n",
       "max     165349.200000   182645.560000    471784.100000       NaN   \n",
       "\n",
       "               Profit  \n",
       "count       50.000000  \n",
       "unique            NaN  \n",
       "top               NaN  \n",
       "freq              NaN  \n",
       "mean    112012.639200  \n",
       "std      40306.180338  \n",
       "min      14681.400000  \n",
       "25%      90138.902500  \n",
       "50%     107978.190000  \n",
       "75%     139765.977500  \n",
       "max     192261.830000  "
      ]
     },
     "execution_count": 5,
     "metadata": {},
     "output_type": "execute_result"
    }
   ],
   "source": [
    "data.describe(include='all')"
   ]
  },
  {
   "cell_type": "markdown",
   "id": "6fa5c628",
   "metadata": {
    "id": "7745e667",
    "papermill": {
     "duration": 0.058013,
     "end_time": "2022-02-16T07:37:11.143494",
     "exception": false,
     "start_time": "2022-02-16T07:37:11.085481",
     "status": "completed"
    },
    "tags": []
   },
   "source": [
    "Mean and 50% (Median) have similar values for RND, ADMIN and MKT. Hence we have good quality data"
   ]
  },
  {
   "cell_type": "code",
   "execution_count": 6,
   "id": "349c1cc6",
   "metadata": {
    "execution": {
     "iopub.execute_input": "2022-02-16T07:37:11.264021Z",
     "iopub.status.busy": "2022-02-16T07:37:11.263377Z",
     "iopub.status.idle": "2022-02-16T07:37:14.536676Z",
     "shell.execute_reply": "2022-02-16T07:37:14.536109Z",
     "shell.execute_reply.started": "2022-02-16T07:35:29.425057Z"
    },
    "id": "9ca9e6f2",
    "outputId": "17ffc281-568a-4c71-a9c4-abfc025a8d8f",
    "papermill": {
     "duration": 3.335508,
     "end_time": "2022-02-16T07:37:14.536823",
     "exception": false,
     "start_time": "2022-02-16T07:37:11.201315",
     "status": "completed"
    },
    "tags": []
   },
   "outputs": [
    {
     "data": {
      "text/plain": [
       "<seaborn.axisgrid.PairGrid at 0x7ff6a63c8190>"
      ]
     },
     "execution_count": 6,
     "metadata": {},
     "output_type": "execute_result"
    },
    {
     "data": {
      "image/png": "[encoded data removed]",
      "text/plain": [
       "<Figure size 720x720 with 20 Axes>"
      ]
     },
     "metadata": {
      "needs_background": "light"
     },
     "output_type": "display_data"
    }
   ],
   "source": [
    "sns.pairplot(data)"
   ]
  },
  {
   "cell_type": "markdown",
   "id": "dd135983",
   "metadata": {
    "id": "4b0b7c87",
    "papermill": {
     "duration": 0.057629,
     "end_time": "2022-02-16T07:37:14.652202",
     "exception": false,
     "start_time": "2022-02-16T07:37:14.594573",
     "status": "completed"
    },
    "tags": []
   },
   "source": [
    "Positive correlation can be seen between RND and MKT and Profit"
   ]
  },
  {
   "cell_type": "code",
   "execution_count": 7,
   "id": "47327641",
   "metadata": {
    "execution": {
     "iopub.execute_input": "2022-02-16T07:37:14.770985Z",
     "iopub.status.busy": "2022-02-16T07:37:14.770388Z",
     "iopub.status.idle": "2022-02-16T07:37:15.080037Z",
     "shell.execute_reply": "2022-02-16T07:37:15.079410Z",
     "shell.execute_reply.started": "2022-02-16T07:35:32.633719Z"
    },
    "id": "dabd7396",
    "outputId": "d0026672-dab7-4ce0-d772-b3b4046b206e",
    "papermill": {
     "duration": 0.369876,
     "end_time": "2022-02-16T07:37:15.080179",
     "exception": false,
     "start_time": "2022-02-16T07:37:14.710303",
     "status": "completed"
    },
    "tags": []
   },
   "outputs": [
    {
     "data": {
      "text/plain": [
       "<AxesSubplot:>"
      ]
     },
     "execution_count": 7,
     "metadata": {},
     "output_type": "execute_result"
    },
    {
     "data": {
      "image/png": "[encoded data removed]",
      "text/plain": [
       "<Figure size 432x288 with 2 Axes>"
      ]
     },
     "metadata": {
      "needs_background": "light"
     },
     "output_type": "display_data"
    }
   ],
   "source": [
    "sns.heatmap(data.corr(), annot=True, linewidth=2)"
   ]
  },
  {
   "cell_type": "code",
   "execution_count": 8,
   "id": "5045fbe7",
   "metadata": {
    "execution": {
     "iopub.execute_input": "2022-02-16T07:37:15.200584Z",
     "iopub.status.busy": "2022-02-16T07:37:15.199955Z",
     "iopub.status.idle": "2022-02-16T07:37:15.209557Z",
     "shell.execute_reply": "2022-02-16T07:37:15.210181Z",
     "shell.execute_reply.started": "2022-02-16T07:35:32.928738Z"
    },
    "id": "3b79d360",
    "outputId": "f5665ba5-22d2-4c45-9173-02532e7c6cf1",
    "papermill": {
     "duration": 0.071671,
     "end_time": "2022-02-16T07:37:15.210368",
     "exception": false,
     "start_time": "2022-02-16T07:37:15.138697",
     "status": "completed"
    },
    "tags": []
   },
   "outputs": [
    {
     "data": {
      "text/plain": [
       "array([ 0,  1,  2,  3,  4,  5,  6,  7,  8,  9, 10, 11, 12, 13, 14, 15, 16,\n",
       "       17, 18, 19, 20, 21, 22, 23, 24, 25, 26, 27, 28, 29, 30, 31, 32, 33,\n",
       "       34, 35, 36, 37, 38, 39, 40, 41, 42, 43, 44, 45, 46, 47, 48, 49])"
      ]
     },
     "execution_count": 8,
     "metadata": {},
     "output_type": "execute_result"
    }
   ],
   "source": [
    "#check duplicate rows\n",
    "data.drop_duplicates(inplace=True)\n",
    "#Reset the index\n",
    "#1. Creating new index array\n",
    "indexColArray = np.array(list(range(0, len(data))))\n",
    "\n",
    "#2. Assign the above array to my df\n",
    "data.set_index(indexColArray, inplace=True)\n",
    "indexColArray = np.array(list(range(0,len(data))))\n",
    "indexColArray"
   ]
  },
  {
   "cell_type": "markdown",
   "id": "dad977bd",
   "metadata": {
    "id": "8239b799",
    "papermill": {
     "duration": 0.059318,
     "end_time": "2022-02-16T07:37:15.329189",
     "exception": false,
     "start_time": "2022-02-16T07:37:15.269871",
     "status": "completed"
    },
    "tags": []
   },
   "source": [
    "No duplicate rows"
   ]
  },
  {
   "cell_type": "code",
   "execution_count": 9,
   "id": "f196fa13",
   "metadata": {
    "execution": {
     "iopub.execute_input": "2022-02-16T07:37:15.453796Z",
     "iopub.status.busy": "2022-02-16T07:37:15.453145Z",
     "iopub.status.idle": "2022-02-16T07:37:15.470186Z",
     "shell.execute_reply": "2022-02-16T07:37:15.469267Z",
     "shell.execute_reply.started": "2022-02-16T07:35:32.941955Z"
    },
    "id": "eabef253",
    "outputId": "ef74107a-37d9-46d7-cdc0-ade2a7da42b6",
    "papermill": {
     "duration": 0.081153,
     "end_time": "2022-02-16T07:37:15.470394",
     "exception": false,
     "start_time": "2022-02-16T07:37:15.389241",
     "status": "completed"
    },
    "tags": []
   },
   "outputs": [
    {
     "name": "stdout",
     "output_type": "stream",
     "text": [
      "<class 'pandas.core.frame.DataFrame'>\n",
      "Int64Index: 50 entries, 0 to 49\n",
      "Data columns (total 5 columns):\n",
      " #   Column           Non-Null Count  Dtype  \n",
      "---  ------           --------------  -----  \n",
      " 0   R&D Spend        50 non-null     float64\n",
      " 1   Administration   50 non-null     float64\n",
      " 2   Marketing Spend  50 non-null     float64\n",
      " 3   State            50 non-null     object \n",
      " 4   Profit           50 non-null     float64\n",
      "dtypes: float64(4), object(1)\n",
      "memory usage: 2.3+ KB\n"
     ]
    }
   ],
   "source": [
    "data.info()"
   ]
  },
  {
   "cell_type": "markdown",
   "id": "03e8f88c",
   "metadata": {
    "id": "2a5d513b",
    "papermill": {
     "duration": 0.060077,
     "end_time": "2022-02-16T07:37:15.591846",
     "exception": false,
     "start_time": "2022-02-16T07:37:15.531769",
     "status": "completed"
    },
    "tags": []
   },
   "source": [
    "RND,ADMIN and MKT - Numerical Continuous Data - float\n",
    "STATE - Categorical Data - object"
   ]
  },
  {
   "cell_type": "code",
   "execution_count": 10,
   "id": "b2083410",
   "metadata": {
    "execution": {
     "iopub.execute_input": "2022-02-16T07:37:15.719155Z",
     "iopub.status.busy": "2022-02-16T07:37:15.718453Z",
     "iopub.status.idle": "2022-02-16T07:37:15.719783Z",
     "shell.execute_reply": "2022-02-16T07:37:15.720395Z",
     "shell.execute_reply.started": "2022-02-16T07:35:32.966083Z"
    },
    "papermill": {
     "duration": 0.068744,
     "end_time": "2022-02-16T07:37:15.720595",
     "exception": false,
     "start_time": "2022-02-16T07:37:15.651851",
     "status": "completed"
    },
    "tags": []
   },
   "outputs": [],
   "source": [
    "data = data.rename(columns = {'R&D Spend': 'RND', 'Administration': 'ADMIN', 'Marketing Spend': 'MKT'}, inplace = False)"
   ]
  },
  {
   "cell_type": "markdown",
   "id": "4bf8eb23",
   "metadata": {
    "id": "38196f2c",
    "papermill": {
     "duration": 0.059552,
     "end_time": "2022-02-16T07:37:15.840571",
     "exception": false,
     "start_time": "2022-02-16T07:37:15.781019",
     "status": "completed"
    },
    "tags": []
   },
   "source": [
    "Checking Non-Negative Values in Numeric Data"
   ]
  },
  {
   "cell_type": "code",
   "execution_count": 11,
   "id": "8cfe7b84",
   "metadata": {
    "execution": {
     "iopub.execute_input": "2022-02-16T07:37:15.965112Z",
     "iopub.status.busy": "2022-02-16T07:37:15.964356Z",
     "iopub.status.idle": "2022-02-16T07:37:15.978268Z",
     "shell.execute_reply": "2022-02-16T07:37:15.977346Z",
     "shell.execute_reply.started": "2022-02-16T07:35:32.972487Z"
    },
    "id": "5fa132ce",
    "outputId": "45005502-ff6e-498e-e3fd-03295185d695",
    "papermill": {
     "duration": 0.077902,
     "end_time": "2022-02-16T07:37:15.978513",
     "exception": false,
     "start_time": "2022-02-16T07:37:15.900611",
     "status": "completed"
    },
    "tags": []
   },
   "outputs": [
    {
     "name": "stderr",
     "output_type": "stream",
     "text": [
      "/opt/conda/lib/python3.7/site-packages/pandas/core/indexing.py:1732: SettingWithCopyWarning: \n",
      "A value is trying to be set on a copy of a slice from a DataFrame\n",
      "\n",
      "See the caveats in the documentation: https://pandas.pydata.org/pandas-docs/stable/user_guide/indexing.html#returning-a-view-versus-a-copy\n",
      "  self._setitem_single_block(indexer, value, name)\n"
     ]
    }
   ],
   "source": [
    "data.RND.loc[data.RND<0]=np.nan\n",
    "data.ADMIN.loc[data.ADMIN<0]=np.nan\n",
    "data.MKT.loc[data.MKT<0]=np.nan"
   ]
  },
  {
   "cell_type": "markdown",
   "id": "7b5c581f",
   "metadata": {
    "id": "d98b42c9",
    "papermill": {
     "duration": 0.061042,
     "end_time": "2022-02-16T07:37:16.105652",
     "exception": false,
     "start_time": "2022-02-16T07:37:16.044610",
     "status": "completed"
    },
    "tags": []
   },
   "source": [
    "Checking unique values for STATE"
   ]
  },
  {
   "cell_type": "code",
   "execution_count": 12,
   "id": "41d81729",
   "metadata": {
    "execution": {
     "iopub.execute_input": "2022-02-16T07:37:16.237475Z",
     "iopub.status.busy": "2022-02-16T07:37:16.236768Z",
     "iopub.status.idle": "2022-02-16T07:37:16.239393Z",
     "shell.execute_reply": "2022-02-16T07:37:16.239962Z",
     "shell.execute_reply.started": "2022-02-16T07:35:32.990688Z"
    },
    "id": "3d067bde",
    "outputId": "8d5d9dc1-3688-416a-a494-7b654cfb9f77",
    "papermill": {
     "duration": 0.073919,
     "end_time": "2022-02-16T07:37:16.240175",
     "exception": false,
     "start_time": "2022-02-16T07:37:16.166256",
     "status": "completed"
    },
    "tags": []
   },
   "outputs": [
    {
     "data": {
      "text/plain": [
       "array(['New York', 'California', 'Florida'], dtype=object)"
      ]
     },
     "execution_count": 12,
     "metadata": {},
     "output_type": "execute_result"
    }
   ],
   "source": [
    "data.State.unique()\n",
    "#no spelling mistakes\n",
    "#no invalid data"
   ]
  },
  {
   "cell_type": "markdown",
   "id": "a175c974",
   "metadata": {
    "id": "35bd2f74",
    "papermill": {
     "duration": 0.062303,
     "end_time": "2022-02-16T07:37:16.364061",
     "exception": false,
     "start_time": "2022-02-16T07:37:16.301758",
     "status": "completed"
    },
    "tags": []
   },
   "source": [
    "Label Encoding for STATE"
   ]
  },
  {
   "cell_type": "code",
   "execution_count": 13,
   "id": "b4878def",
   "metadata": {
    "execution": {
     "iopub.execute_input": "2022-02-16T07:37:16.490274Z",
     "iopub.status.busy": "2022-02-16T07:37:16.489619Z",
     "iopub.status.idle": "2022-02-16T07:37:16.504424Z",
     "shell.execute_reply": "2022-02-16T07:37:16.505045Z",
     "shell.execute_reply.started": "2022-02-16T07:35:33.000321Z"
    },
    "id": "5b15ccdf",
    "outputId": "bec05b57-0ca4-4a29-c2cb-85d01d7a5c78",
    "papermill": {
     "duration": 0.080426,
     "end_time": "2022-02-16T07:37:16.505248",
     "exception": false,
     "start_time": "2022-02-16T07:37:16.424822",
     "status": "completed"
    },
    "tags": []
   },
   "outputs": [
    {
     "data": {
      "text/html": [
       "<div>\n",
       "<style scoped>\n",
       "    .dataframe tbody tr th:only-of-type {\n",
       "        vertical-align: middle;\n",
       "    }\n",
       "\n",
       "    .dataframe tbody tr th {\n",
       "        vertical-align: top;\n",
       "    }\n",
       "\n",
       "    .dataframe thead th {\n",
       "        text-align: right;\n",
       "    }\n",
       "</style>\n",
       "<table border=\"1\" class=\"dataframe\">\n",
       "  <thead>\n",
       "    <tr style=\"text-align: right;\">\n",
       "      <th></th>\n",
       "      <th>California</th>\n",
       "      <th>Florida</th>\n",
       "      <th>New York</th>\n",
       "      <th>RND</th>\n",
       "      <th>ADMIN</th>\n",
       "      <th>MKT</th>\n",
       "      <th>Profit</th>\n",
       "    </tr>\n",
       "  </thead>\n",
       "  <tbody>\n",
       "    <tr>\n",
       "      <th>0</th>\n",
       "      <td>0</td>\n",
       "      <td>0</td>\n",
       "      <td>1</td>\n",
       "      <td>165349.20</td>\n",
       "      <td>136897.80</td>\n",
       "      <td>471784.10</td>\n",
       "      <td>192261.83</td>\n",
       "    </tr>\n",
       "    <tr>\n",
       "      <th>1</th>\n",
       "      <td>1</td>\n",
       "      <td>0</td>\n",
       "      <td>0</td>\n",
       "      <td>162597.70</td>\n",
       "      <td>151377.59</td>\n",
       "      <td>443898.53</td>\n",
       "      <td>191792.06</td>\n",
       "    </tr>\n",
       "    <tr>\n",
       "      <th>2</th>\n",
       "      <td>0</td>\n",
       "      <td>1</td>\n",
       "      <td>0</td>\n",
       "      <td>153441.51</td>\n",
       "      <td>101145.55</td>\n",
       "      <td>407934.54</td>\n",
       "      <td>191050.39</td>\n",
       "    </tr>\n",
       "    <tr>\n",
       "      <th>3</th>\n",
       "      <td>0</td>\n",
       "      <td>0</td>\n",
       "      <td>1</td>\n",
       "      <td>144372.41</td>\n",
       "      <td>118671.85</td>\n",
       "      <td>383199.62</td>\n",
       "      <td>182901.99</td>\n",
       "    </tr>\n",
       "    <tr>\n",
       "      <th>4</th>\n",
       "      <td>0</td>\n",
       "      <td>1</td>\n",
       "      <td>0</td>\n",
       "      <td>142107.34</td>\n",
       "      <td>91391.77</td>\n",
       "      <td>366168.42</td>\n",
       "      <td>166187.94</td>\n",
       "    </tr>\n",
       "  </tbody>\n",
       "</table>\n",
       "</div>"
      ],
      "text/plain": [
       "   California  Florida  New York        RND      ADMIN        MKT     Profit\n",
       "0           0        0         1  165349.20  136897.80  471784.10  192261.83\n",
       "1           1        0         0  162597.70  151377.59  443898.53  191792.06\n",
       "2           0        1         0  153441.51  101145.55  407934.54  191050.39\n",
       "3           0        0         1  144372.41  118671.85  383199.62  182901.99\n",
       "4           0        1         0  142107.34   91391.77  366168.42  166187.94"
      ]
     },
     "execution_count": 13,
     "metadata": {},
     "output_type": "execute_result"
    }
   ],
   "source": [
    "le=pd.get_dummies(data.State)\n",
    "newdata=pd.concat([le,data.iloc[:,[0,1,2,4]]], axis =1 )\n",
    "newdata.head()"
   ]
  },
  {
   "cell_type": "code",
   "execution_count": 14,
   "id": "f889f839",
   "metadata": {
    "execution": {
     "iopub.execute_input": "2022-02-16T07:37:16.632378Z",
     "iopub.status.busy": "2022-02-16T07:37:16.631614Z",
     "iopub.status.idle": "2022-02-16T07:37:17.167978Z",
     "shell.execute_reply": "2022-02-16T07:37:17.168499Z",
     "shell.execute_reply.started": "2022-02-16T07:35:33.023495Z"
    },
    "id": "f12a050a",
    "outputId": "71c0f7f9-1686-4a56-b172-33084389a631",
    "papermill": {
     "duration": 0.60202,
     "end_time": "2022-02-16T07:37:17.168706",
     "exception": false,
     "start_time": "2022-02-16T07:37:16.566686",
     "status": "completed"
    },
    "tags": []
   },
   "outputs": [
    {
     "data": {
      "text/plain": [
       "<AxesSubplot:>"
      ]
     },
     "execution_count": 14,
     "metadata": {},
     "output_type": "execute_result"
    },
    {
     "data": {
      "image/png": "[encoded data removed]",
      "text/plain": [
       "<Figure size 432x288 with 2 Axes>"
      ]
     },
     "metadata": {
      "needs_background": "light"
     },
     "output_type": "display_data"
    }
   ],
   "source": [
    "sns.heatmap(newdata.corr(), annot=True, linewidth=10)"
   ]
  },
  {
   "cell_type": "markdown",
   "id": "fe46ebea",
   "metadata": {
    "id": "a0642e8c",
    "papermill": {
     "duration": 0.064441,
     "end_time": "2022-02-16T07:37:17.298477",
     "exception": false,
     "start_time": "2022-02-16T07:37:17.234036",
     "status": "completed"
    },
    "tags": []
   },
   "source": [
    "Simple Linear Regression"
   ]
  },
  {
   "cell_type": "code",
   "execution_count": 15,
   "id": "f79607ca",
   "metadata": {
    "execution": {
     "iopub.execute_input": "2022-02-16T07:37:17.428310Z",
     "iopub.status.busy": "2022-02-16T07:37:17.427592Z",
     "iopub.status.idle": "2022-02-16T07:37:17.649215Z",
     "shell.execute_reply": "2022-02-16T07:37:17.649715Z",
     "shell.execute_reply.started": "2022-02-16T07:35:33.545004Z"
    },
    "id": "e16a4f69",
    "outputId": "4981e953-3e63-4acf-f92c-d5ae1a0f1ccf",
    "papermill": {
     "duration": 0.288329,
     "end_time": "2022-02-16T07:37:17.649909",
     "exception": false,
     "start_time": "2022-02-16T07:37:17.361580",
     "status": "completed"
    },
    "tags": []
   },
   "outputs": [
    {
     "data": {
      "text/plain": [
       "<matplotlib.collections.PathCollection at 0x7ff6a3797590>"
      ]
     },
     "execution_count": 15,
     "metadata": {},
     "output_type": "execute_result"
    },
    {
     "data": {
      "image/png": "[encoded data removed]",
      "text/plain": [
       "<Figure size 432x288 with 1 Axes>"
      ]
     },
     "metadata": {
      "needs_background": "light"
     },
     "output_type": "display_data"
    }
   ],
   "source": [
    "#RND vs PROFIT\n",
    "X=newdata.iloc[:,[3]].values\n",
    "y=newdata.iloc[:,[-1]].values\n",
    "plt.scatter(X,y)"
   ]
  },
  {
   "cell_type": "code",
   "execution_count": 16,
   "id": "42e00ae6",
   "metadata": {
    "execution": {
     "iopub.execute_input": "2022-02-16T07:37:17.783134Z",
     "iopub.status.busy": "2022-02-16T07:37:17.782487Z",
     "iopub.status.idle": "2022-02-16T07:37:17.976380Z",
     "shell.execute_reply": "2022-02-16T07:37:17.975683Z",
     "shell.execute_reply.started": "2022-02-16T07:35:33.763232Z"
    },
    "id": "54f7928b",
    "papermill": {
     "duration": 0.261582,
     "end_time": "2022-02-16T07:37:17.976564",
     "exception": false,
     "start_time": "2022-02-16T07:37:17.714982",
     "status": "completed"
    },
    "tags": []
   },
   "outputs": [],
   "source": [
    "from sklearn.model_selection import train_test_split\n",
    "X_train, X_test, y_train,y_test = train_test_split(X,y, test_size=1/3, random_state=0)"
   ]
  },
  {
   "cell_type": "code",
   "execution_count": 17,
   "id": "d9e282c9",
   "metadata": {
    "execution": {
     "iopub.execute_input": "2022-02-16T07:37:18.113695Z",
     "iopub.status.busy": "2022-02-16T07:37:18.112853Z",
     "iopub.status.idle": "2022-02-16T07:37:18.215681Z",
     "shell.execute_reply": "2022-02-16T07:37:18.216203Z",
     "shell.execute_reply.started": "2022-02-16T07:35:33.952764Z"
    },
    "id": "ee9f8c33",
    "outputId": "6129924b-7118-456d-ece8-6cf32549455b",
    "papermill": {
     "duration": 0.173563,
     "end_time": "2022-02-16T07:37:18.216413",
     "exception": false,
     "start_time": "2022-02-16T07:37:18.042850",
     "status": "completed"
    },
    "tags": []
   },
   "outputs": [
    {
     "data": {
      "text/plain": [
       "LinearRegression()"
      ]
     },
     "execution_count": 17,
     "metadata": {},
     "output_type": "execute_result"
    }
   ],
   "source": [
    "from sklearn.linear_model import LinearRegression\n",
    "reg=LinearRegression()\n",
    "reg.fit(X_train, y_train)"
   ]
  },
  {
   "cell_type": "code",
   "execution_count": 18,
   "id": "1caa1cbb",
   "metadata": {
    "execution": {
     "iopub.execute_input": "2022-02-16T07:37:18.351742Z",
     "iopub.status.busy": "2022-02-16T07:37:18.351118Z",
     "iopub.status.idle": "2022-02-16T07:37:18.354758Z",
     "shell.execute_reply": "2022-02-16T07:37:18.355292Z",
     "shell.execute_reply.started": "2022-02-16T07:35:34.069537Z"
    },
    "id": "4c2c2019",
    "papermill": {
     "duration": 0.072147,
     "end_time": "2022-02-16T07:37:18.355496",
     "exception": false,
     "start_time": "2022-02-16T07:37:18.283349",
     "status": "completed"
    },
    "tags": []
   },
   "outputs": [],
   "source": [
    "y_pred=reg.predict(X_test)"
   ]
  },
  {
   "cell_type": "code",
   "execution_count": 19,
   "id": "ca0af96f",
   "metadata": {
    "execution": {
     "iopub.execute_input": "2022-02-16T07:37:18.490387Z",
     "iopub.status.busy": "2022-02-16T07:37:18.489727Z",
     "iopub.status.idle": "2022-02-16T07:37:18.493378Z",
     "shell.execute_reply": "2022-02-16T07:37:18.493913Z",
     "shell.execute_reply.started": "2022-02-16T07:35:34.075690Z"
    },
    "id": "a6c4b6c3",
    "papermill": {
     "duration": 0.073803,
     "end_time": "2022-02-16T07:37:18.494141",
     "exception": false,
     "start_time": "2022-02-16T07:37:18.420338",
     "status": "completed"
    },
    "tags": []
   },
   "outputs": [],
   "source": [
    "import matplotlib.pyplot as plt"
   ]
  },
  {
   "cell_type": "code",
   "execution_count": 20,
   "id": "82f0ac7e",
   "metadata": {
    "execution": {
     "iopub.execute_input": "2022-02-16T07:37:18.627235Z",
     "iopub.status.busy": "2022-02-16T07:37:18.626482Z",
     "iopub.status.idle": "2022-02-16T07:37:18.838430Z",
     "shell.execute_reply": "2022-02-16T07:37:18.837816Z",
     "shell.execute_reply.started": "2022-02-16T07:35:34.089029Z"
    },
    "id": "6e169d99",
    "outputId": "5e4340c8-a64e-41d8-dae1-5a62f8bdbc50",
    "papermill": {
     "duration": 0.279705,
     "end_time": "2022-02-16T07:37:18.838603",
     "exception": false,
     "start_time": "2022-02-16T07:37:18.558898",
     "status": "completed"
    },
    "tags": []
   },
   "outputs": [
    {
     "data": {
      "image/png": "[encoded data removed]",
      "text/plain": [
       "<Figure size 432x288 with 1 Axes>"
      ]
     },
     "metadata": {
      "needs_background": "light"
     },
     "output_type": "display_data"
    }
   ],
   "source": [
    "#visualize training data\n",
    "plt.scatter(X_train,y_train,color = 'red')\n",
    "plt.plot(X_train,reg.predict(X_train),color='blue')\n",
    "plt.title(\"RND vs Profit - Training\")\n",
    "plt.xlabel(\"RND\")\n",
    "plt.ylabel(\"PROFIT\")\n",
    "plt.show()"
   ]
  },
  {
   "cell_type": "code",
   "execution_count": 21,
   "id": "bb9eeba3",
   "metadata": {
    "execution": {
     "iopub.execute_input": "2022-02-16T07:37:18.976219Z",
     "iopub.status.busy": "2022-02-16T07:37:18.975511Z",
     "iopub.status.idle": "2022-02-16T07:37:19.176442Z",
     "shell.execute_reply": "2022-02-16T07:37:19.177595Z",
     "shell.execute_reply.started": "2022-02-16T07:35:34.329942Z"
    },
    "id": "dfd3113e",
    "outputId": "9281fa07-dbbf-49d8-b187-ddefc0c34937",
    "papermill": {
     "duration": 0.2712,
     "end_time": "2022-02-16T07:37:19.177912",
     "exception": false,
     "start_time": "2022-02-16T07:37:18.906712",
     "status": "completed"
    },
    "tags": []
   },
   "outputs": [
    {
     "data": {
      "image/png": "[encoded data removed]",
      "text/plain": [
       "<Figure size 432x288 with 1 Axes>"
      ]
     },
     "metadata": {
      "needs_background": "light"
     },
     "output_type": "display_data"
    }
   ],
   "source": [
    "#visualize test data\n",
    "plt.scatter(X_test,y_test,color = 'red')\n",
    "plt.plot(X_train,reg.predict(X_train),color='blue')\n",
    "plt.title(\"RND vs Profit - Test\")\n",
    "plt.xlabel(\"RND\")\n",
    "plt.ylabel(\"PROFIT\")\n",
    "plt.show()"
   ]
  },
  {
   "cell_type": "code",
   "execution_count": 22,
   "id": "2cc801f6",
   "metadata": {
    "execution": {
     "iopub.execute_input": "2022-02-16T07:37:19.352304Z",
     "iopub.status.busy": "2022-02-16T07:37:19.351565Z",
     "iopub.status.idle": "2022-02-16T07:37:19.358877Z",
     "shell.execute_reply": "2022-02-16T07:37:19.359806Z",
     "shell.execute_reply.started": "2022-02-16T07:35:34.537107Z"
    },
    "id": "fce51820",
    "outputId": "a425eeab-dbbe-43cf-b2d2-35bb2b84e8a7",
    "papermill": {
     "duration": 0.090934,
     "end_time": "2022-02-16T07:37:19.360093",
     "exception": false,
     "start_time": "2022-02-16T07:37:19.269159",
     "status": "completed"
    },
    "tags": []
   },
   "outputs": [
    {
     "name": "stdout",
     "output_type": "stream",
     "text": [
      "Training Accuracy: 95.13%\n",
      "Test Accuracy: 92.09%\n",
      "Model is Overfitting\n"
     ]
    }
   ],
   "source": [
    "\n",
    "trainacc=round(reg.score(X_train,y_train)*100,2)\n",
    "testacc=round(reg.score(X_test,y_test)*100,2)\n",
    "print(f'Training Accuracy: {trainacc}%')\n",
    "print(f'Test Accuracy: {testacc}%')\n",
    "if trainacc>testacc:\n",
    "    print(\"Model is Overfitting\")"
   ]
  },
  {
   "cell_type": "code",
   "execution_count": 23,
   "id": "45465a6f",
   "metadata": {
    "execution": {
     "iopub.execute_input": "2022-02-16T07:37:19.501266Z",
     "iopub.status.busy": "2022-02-16T07:37:19.500587Z",
     "iopub.status.idle": "2022-02-16T07:37:19.508205Z",
     "shell.execute_reply": "2022-02-16T07:37:19.509064Z",
     "shell.execute_reply.started": "2022-02-16T07:35:34.547165Z"
    },
    "id": "809ff7b5",
    "outputId": "0badab35-b5db-438e-847f-b87b1cf3dae9",
    "papermill": {
     "duration": 0.078809,
     "end_time": "2022-02-16T07:37:19.509329",
     "exception": false,
     "start_time": "2022-02-16T07:37:19.430520",
     "status": "completed"
    },
    "tags": []
   },
   "outputs": [
    {
     "name": "stdout",
     "output_type": "stream",
     "text": [
      "r2 score is 0.9209\n",
      "mean_sqrd_error is== 75085549.7617\n",
      "root_mean_squared error of is== 8665.191847945045\n"
     ]
    }
   ],
   "source": [
    "from sklearn.metrics import r2_score\n",
    "from sklearn.metrics import mean_squared_error\n",
    "score=r2_score(y_test,y_pred)\n",
    "print(\"r2 score is\",round(score, 4))\n",
    "print(\"mean_sqrd_error is==\",round(mean_squared_error(y_test,y_pred),4))\n",
    "print(\"root_mean_squared error of is==\",np.sqrt(mean_squared_error(y_test,y_pred)))"
   ]
  },
  {
   "cell_type": "code",
   "execution_count": 24,
   "id": "b46ef7b1",
   "metadata": {
    "execution": {
     "iopub.execute_input": "2022-02-16T07:37:19.652351Z",
     "iopub.status.busy": "2022-02-16T07:37:19.651425Z",
     "iopub.status.idle": "2022-02-16T07:37:19.664789Z",
     "shell.execute_reply": "2022-02-16T07:37:19.665432Z",
     "shell.execute_reply.started": "2022-02-16T07:35:34.563028Z"
    },
    "id": "2c5c6a23",
    "outputId": "dce32074-d758-494f-d1f9-806d5894701c",
    "papermill": {
     "duration": 0.087576,
     "end_time": "2022-02-16T07:37:19.665645",
     "exception": false,
     "start_time": "2022-02-16T07:37:19.578069",
     "status": "completed"
    },
    "tags": []
   },
   "outputs": [
    {
     "data": {
      "text/html": [
       "<div>\n",
       "<style scoped>\n",
       "    .dataframe tbody tr th:only-of-type {\n",
       "        vertical-align: middle;\n",
       "    }\n",
       "\n",
       "    .dataframe tbody tr th {\n",
       "        vertical-align: top;\n",
       "    }\n",
       "\n",
       "    .dataframe thead th {\n",
       "        text-align: right;\n",
       "    }\n",
       "</style>\n",
       "<table border=\"1\" class=\"dataframe\">\n",
       "  <thead>\n",
       "    <tr style=\"text-align: right;\">\n",
       "      <th></th>\n",
       "      <th>California</th>\n",
       "      <th>Florida</th>\n",
       "      <th>New York</th>\n",
       "      <th>RND</th>\n",
       "      <th>ADMIN</th>\n",
       "      <th>MKT</th>\n",
       "      <th>Profit</th>\n",
       "    </tr>\n",
       "  </thead>\n",
       "  <tbody>\n",
       "    <tr>\n",
       "      <th>0</th>\n",
       "      <td>0</td>\n",
       "      <td>0</td>\n",
       "      <td>1</td>\n",
       "      <td>165349.20</td>\n",
       "      <td>136897.80</td>\n",
       "      <td>471784.10</td>\n",
       "      <td>192261.83</td>\n",
       "    </tr>\n",
       "    <tr>\n",
       "      <th>1</th>\n",
       "      <td>1</td>\n",
       "      <td>0</td>\n",
       "      <td>0</td>\n",
       "      <td>162597.70</td>\n",
       "      <td>151377.59</td>\n",
       "      <td>443898.53</td>\n",
       "      <td>191792.06</td>\n",
       "    </tr>\n",
       "    <tr>\n",
       "      <th>2</th>\n",
       "      <td>0</td>\n",
       "      <td>1</td>\n",
       "      <td>0</td>\n",
       "      <td>153441.51</td>\n",
       "      <td>101145.55</td>\n",
       "      <td>407934.54</td>\n",
       "      <td>191050.39</td>\n",
       "    </tr>\n",
       "    <tr>\n",
       "      <th>3</th>\n",
       "      <td>0</td>\n",
       "      <td>0</td>\n",
       "      <td>1</td>\n",
       "      <td>144372.41</td>\n",
       "      <td>118671.85</td>\n",
       "      <td>383199.62</td>\n",
       "      <td>182901.99</td>\n",
       "    </tr>\n",
       "    <tr>\n",
       "      <th>4</th>\n",
       "      <td>0</td>\n",
       "      <td>1</td>\n",
       "      <td>0</td>\n",
       "      <td>142107.34</td>\n",
       "      <td>91391.77</td>\n",
       "      <td>366168.42</td>\n",
       "      <td>166187.94</td>\n",
       "    </tr>\n",
       "  </tbody>\n",
       "</table>\n",
       "</div>"
      ],
      "text/plain": [
       "   California  Florida  New York        RND      ADMIN        MKT     Profit\n",
       "0           0        0         1  165349.20  136897.80  471784.10  192261.83\n",
       "1           1        0         0  162597.70  151377.59  443898.53  191792.06\n",
       "2           0        1         0  153441.51  101145.55  407934.54  191050.39\n",
       "3           0        0         1  144372.41  118671.85  383199.62  182901.99\n",
       "4           0        1         0  142107.34   91391.77  366168.42  166187.94"
      ]
     },
     "execution_count": 24,
     "metadata": {},
     "output_type": "execute_result"
    }
   ],
   "source": [
    "newdata.head()"
   ]
  },
  {
   "cell_type": "markdown",
   "id": "f6dcbbf5",
   "metadata": {
    "id": "1c0507b0",
    "papermill": {
     "duration": 0.068303,
     "end_time": "2022-02-16T07:37:19.804617",
     "exception": false,
     "start_time": "2022-02-16T07:37:19.736314",
     "status": "completed"
    },
    "tags": []
   },
   "source": []
  },
  {
   "cell_type": "code",
   "execution_count": 25,
   "id": "f135691b",
   "metadata": {
    "execution": {
     "iopub.execute_input": "2022-02-16T07:37:19.947644Z",
     "iopub.status.busy": "2022-02-16T07:37:19.946677Z",
     "iopub.status.idle": "2022-02-16T07:37:20.161902Z",
     "shell.execute_reply": "2022-02-16T07:37:20.162373Z",
     "shell.execute_reply.started": "2022-02-16T07:35:34.584018Z"
    },
    "id": "4db1d556",
    "outputId": "baa41e7a-7837-4a9f-ad04-6e91a5df091b",
    "papermill": {
     "duration": 0.289063,
     "end_time": "2022-02-16T07:37:20.162544",
     "exception": false,
     "start_time": "2022-02-16T07:37:19.873481",
     "status": "completed"
    },
    "tags": []
   },
   "outputs": [
    {
     "data": {
      "text/plain": [
       "<matplotlib.collections.PathCollection at 0x7ff6a06336d0>"
      ]
     },
     "execution_count": 25,
     "metadata": {},
     "output_type": "execute_result"
    },
    {
     "data": {
      "image/png": "[encoded data removed]",
      "text/plain": [
       "<Figure size 432x288 with 1 Axes>"
      ]
     },
     "metadata": {
      "needs_background": "light"
     },
     "output_type": "display_data"
    }
   ],
   "source": [
    "#ADMIN vs PROFIT\n",
    "Xa=newdata.iloc[:,[4]].values\n",
    "plt.scatter(Xa,y)"
   ]
  },
  {
   "cell_type": "code",
   "execution_count": 26,
   "id": "d44e3297",
   "metadata": {
    "execution": {
     "iopub.execute_input": "2022-02-16T07:37:20.307457Z",
     "iopub.status.busy": "2022-02-16T07:37:20.306505Z",
     "iopub.status.idle": "2022-02-16T07:37:20.311416Z",
     "shell.execute_reply": "2022-02-16T07:37:20.310754Z",
     "shell.execute_reply.started": "2022-02-16T07:35:34.808616Z"
    },
    "id": "380b96d9",
    "papermill": {
     "duration": 0.080528,
     "end_time": "2022-02-16T07:37:20.311566",
     "exception": false,
     "start_time": "2022-02-16T07:37:20.231038",
     "status": "completed"
    },
    "tags": []
   },
   "outputs": [],
   "source": [
    "from sklearn.model_selection import train_test_split\n",
    "Xa_train, Xa_test, ya_train,ya_test = train_test_split(Xa,y, test_size=1/3, random_state=0)"
   ]
  },
  {
   "cell_type": "code",
   "execution_count": 27,
   "id": "61b0e565",
   "metadata": {
    "execution": {
     "iopub.execute_input": "2022-02-16T07:37:20.455923Z",
     "iopub.status.busy": "2022-02-16T07:37:20.455294Z",
     "iopub.status.idle": "2022-02-16T07:37:20.457771Z",
     "shell.execute_reply": "2022-02-16T07:37:20.458261Z",
     "shell.execute_reply.started": "2022-02-16T07:35:34.815983Z"
    },
    "id": "0a766cf0",
    "outputId": "06de5857-6fc6-4846-a887-73a4d80dccf0",
    "papermill": {
     "duration": 0.078045,
     "end_time": "2022-02-16T07:37:20.458431",
     "exception": false,
     "start_time": "2022-02-16T07:37:20.380386",
     "status": "completed"
    },
    "tags": []
   },
   "outputs": [
    {
     "data": {
      "text/plain": [
       "LinearRegression()"
      ]
     },
     "execution_count": 27,
     "metadata": {},
     "output_type": "execute_result"
    }
   ],
   "source": [
    "from sklearn.linear_model import LinearRegression\n",
    "reg=LinearRegression()\n",
    "reg.fit(Xa_train, ya_train)"
   ]
  },
  {
   "cell_type": "code",
   "execution_count": 28,
   "id": "2285be8b",
   "metadata": {
    "execution": {
     "iopub.execute_input": "2022-02-16T07:37:20.602734Z",
     "iopub.status.busy": "2022-02-16T07:37:20.600616Z",
     "iopub.status.idle": "2022-02-16T07:37:20.605907Z",
     "shell.execute_reply": "2022-02-16T07:37:20.605225Z",
     "shell.execute_reply.started": "2022-02-16T07:35:34.831900Z"
    },
    "id": "17c750a3",
    "papermill": {
     "duration": 0.078291,
     "end_time": "2022-02-16T07:37:20.606084",
     "exception": false,
     "start_time": "2022-02-16T07:37:20.527793",
     "status": "completed"
    },
    "tags": []
   },
   "outputs": [],
   "source": [
    "ya_pred=reg.predict(Xa_test)"
   ]
  },
  {
   "cell_type": "code",
   "execution_count": 29,
   "id": "e3a6add9",
   "metadata": {
    "execution": {
     "iopub.execute_input": "2022-02-16T07:37:20.776105Z",
     "iopub.status.busy": "2022-02-16T07:37:20.756678Z",
     "iopub.status.idle": "2022-02-16T07:37:20.954771Z",
     "shell.execute_reply": "2022-02-16T07:37:20.954225Z",
     "shell.execute_reply.started": "2022-02-16T07:35:34.844343Z"
    },
    "id": "78e47253",
    "outputId": "e301fa7a-9a68-4ded-edfb-56e8c354e786",
    "papermill": {
     "duration": 0.279832,
     "end_time": "2022-02-16T07:37:20.954922",
     "exception": false,
     "start_time": "2022-02-16T07:37:20.675090",
     "status": "completed"
    },
    "tags": []
   },
   "outputs": [
    {
     "data": {
      "image/png": "[encoded data removed]",
      "text/plain": [
       "<Figure size 432x288 with 1 Axes>"
      ]
     },
     "metadata": {
      "needs_background": "light"
     },
     "output_type": "display_data"
    }
   ],
   "source": [
    "#visualize training data\n",
    "plt.scatter(Xa_train,ya_train,color = 'red')\n",
    "plt.plot(Xa_train,reg.predict(Xa_train),color='blue')\n",
    "plt.title(\"ADMIN vs Profit - Training\")\n",
    "plt.xlabel(\"ADMIN\")\n",
    "plt.ylabel(\"PROFIT\")\n",
    "plt.show()"
   ]
  },
  {
   "cell_type": "code",
   "execution_count": 30,
   "id": "51590c71",
   "metadata": {
    "execution": {
     "iopub.execute_input": "2022-02-16T07:37:21.100200Z",
     "iopub.status.busy": "2022-02-16T07:37:21.099554Z",
     "iopub.status.idle": "2022-02-16T07:37:21.308892Z",
     "shell.execute_reply": "2022-02-16T07:37:21.308228Z",
     "shell.execute_reply.started": "2022-02-16T07:35:35.058829Z"
    },
    "id": "01935513",
    "outputId": "25e938e2-78db-466a-ebdb-8ebf5e26238c",
    "papermill": {
     "duration": 0.283358,
     "end_time": "2022-02-16T07:37:21.309086",
     "exception": false,
     "start_time": "2022-02-16T07:37:21.025728",
     "status": "completed"
    },
    "tags": []
   },
   "outputs": [
    {
     "data": {
      "image/png": "[encoded data removed]",
      "text/plain": [
       "<Figure size 432x288 with 1 Axes>"
      ]
     },
     "metadata": {
      "needs_background": "light"
     },
     "output_type": "display_data"
    }
   ],
   "source": [
    "#visualize test data\n",
    "plt.scatter(Xa_test,ya_test,color = 'red')\n",
    "plt.plot(Xa_train,reg.predict(Xa_train),color='blue')\n",
    "plt.title(\"ADMIN vs Profit - Test\")\n",
    "plt.xlabel(\"ADMIN\")\n",
    "plt.ylabel(\"PROFIT\")\n",
    "plt.show()"
   ]
  },
  {
   "cell_type": "code",
   "execution_count": 31,
   "id": "e3a38877",
   "metadata": {
    "execution": {
     "iopub.execute_input": "2022-02-16T07:37:21.462301Z",
     "iopub.status.busy": "2022-02-16T07:37:21.461232Z",
     "iopub.status.idle": "2022-02-16T07:37:21.464732Z",
     "shell.execute_reply": "2022-02-16T07:37:21.465486Z",
     "shell.execute_reply.started": "2022-02-16T07:35:35.265303Z"
    },
    "id": "ebad26a7",
    "outputId": "5d29ce16-f4e5-46ab-cfbc-a73da991683e",
    "papermill": {
     "duration": 0.084651,
     "end_time": "2022-02-16T07:37:21.465752",
     "exception": false,
     "start_time": "2022-02-16T07:37:21.381101",
     "status": "completed"
    },
    "tags": []
   },
   "outputs": [
    {
     "name": "stdout",
     "output_type": "stream",
     "text": [
      "Training Accuracy: 10.72%\n",
      "Test Accuracy: -52.83%\n"
     ]
    }
   ],
   "source": [
    "trainacc=round(reg.score(Xa_train,ya_train)*100,2)\n",
    "testacc=round(reg.score(Xa_test,ya_test)*100,2)\n",
    "print(f'Training Accuracy: {trainacc}%')\n",
    "print(f'Test Accuracy: {testacc}%')"
   ]
  },
  {
   "cell_type": "code",
   "execution_count": 32,
   "id": "a083d4c9",
   "metadata": {
    "execution": {
     "iopub.execute_input": "2022-02-16T07:37:21.625220Z",
     "iopub.status.busy": "2022-02-16T07:37:21.624050Z",
     "iopub.status.idle": "2022-02-16T07:37:21.628052Z",
     "shell.execute_reply": "2022-02-16T07:37:21.628608Z",
     "shell.execute_reply.started": "2022-02-16T07:35:35.275062Z"
    },
    "id": "7d83dfe2",
    "outputId": "24d06134-ea8b-44a3-cdfc-11dea4fbcd22",
    "papermill": {
     "duration": 0.088117,
     "end_time": "2022-02-16T07:37:21.628834",
     "exception": false,
     "start_time": "2022-02-16T07:37:21.540717",
     "status": "completed"
    },
    "tags": []
   },
   "outputs": [
    {
     "name": "stdout",
     "output_type": "stream",
     "text": [
      "r2 score is -0.5283\n",
      "mean_sqrd_error is== 1450076211.2602\n",
      "root_mean_squared error of is== 38079.86621904332\n"
     ]
    }
   ],
   "source": [
    "from sklearn.metrics import r2_score\n",
    "from sklearn.metrics import mean_squared_error\n",
    "score=r2_score(ya_test,ya_pred)\n",
    "print(\"r2 score is\",round(score, 4))\n",
    "print(\"mean_sqrd_error is==\",round(mean_squared_error(ya_test,ya_pred),4))\n",
    "print(\"root_mean_squared error of is==\",np.sqrt(mean_squared_error(ya_test,ya_pred)))"
   ]
  },
  {
   "cell_type": "markdown",
   "id": "ad33e43a",
   "metadata": {
    "id": "18c6d778",
    "papermill": {
     "duration": 0.075766,
     "end_time": "2022-02-16T07:37:21.778106",
     "exception": false,
     "start_time": "2022-02-16T07:37:21.702340",
     "status": "completed"
    },
    "tags": []
   },
   "source": [
    "MKT vs PROFIT"
   ]
  },
  {
   "cell_type": "code",
   "execution_count": 33,
   "id": "20b66dbe",
   "metadata": {
    "execution": {
     "iopub.execute_input": "2022-02-16T07:37:21.937669Z",
     "iopub.status.busy": "2022-02-16T07:37:21.936870Z",
     "iopub.status.idle": "2022-02-16T07:37:21.941064Z",
     "shell.execute_reply": "2022-02-16T07:37:21.940475Z",
     "shell.execute_reply.started": "2022-02-16T07:35:35.289673Z"
    },
    "id": "0b9666de",
    "outputId": "e02e38ec-937f-40ce-df44-169a4a412ce1",
    "papermill": {
     "duration": 0.090041,
     "end_time": "2022-02-16T07:37:21.941235",
     "exception": false,
     "start_time": "2022-02-16T07:37:21.851194",
     "status": "completed"
    },
    "tags": []
   },
   "outputs": [
    {
     "data": {
      "text/html": [
       "<div>\n",
       "<style scoped>\n",
       "    .dataframe tbody tr th:only-of-type {\n",
       "        vertical-align: middle;\n",
       "    }\n",
       "\n",
       "    .dataframe tbody tr th {\n",
       "        vertical-align: top;\n",
       "    }\n",
       "\n",
       "    .dataframe thead th {\n",
       "        text-align: right;\n",
       "    }\n",
       "</style>\n",
       "<table border=\"1\" class=\"dataframe\">\n",
       "  <thead>\n",
       "    <tr style=\"text-align: right;\">\n",
       "      <th></th>\n",
       "      <th>California</th>\n",
       "      <th>Florida</th>\n",
       "      <th>New York</th>\n",
       "      <th>RND</th>\n",
       "      <th>ADMIN</th>\n",
       "      <th>MKT</th>\n",
       "      <th>Profit</th>\n",
       "    </tr>\n",
       "  </thead>\n",
       "  <tbody>\n",
       "    <tr>\n",
       "      <th>0</th>\n",
       "      <td>0</td>\n",
       "      <td>0</td>\n",
       "      <td>1</td>\n",
       "      <td>165349.20</td>\n",
       "      <td>136897.80</td>\n",
       "      <td>471784.10</td>\n",
       "      <td>192261.83</td>\n",
       "    </tr>\n",
       "    <tr>\n",
       "      <th>1</th>\n",
       "      <td>1</td>\n",
       "      <td>0</td>\n",
       "      <td>0</td>\n",
       "      <td>162597.70</td>\n",
       "      <td>151377.59</td>\n",
       "      <td>443898.53</td>\n",
       "      <td>191792.06</td>\n",
       "    </tr>\n",
       "    <tr>\n",
       "      <th>2</th>\n",
       "      <td>0</td>\n",
       "      <td>1</td>\n",
       "      <td>0</td>\n",
       "      <td>153441.51</td>\n",
       "      <td>101145.55</td>\n",
       "      <td>407934.54</td>\n",
       "      <td>191050.39</td>\n",
       "    </tr>\n",
       "    <tr>\n",
       "      <th>3</th>\n",
       "      <td>0</td>\n",
       "      <td>0</td>\n",
       "      <td>1</td>\n",
       "      <td>144372.41</td>\n",
       "      <td>118671.85</td>\n",
       "      <td>383199.62</td>\n",
       "      <td>182901.99</td>\n",
       "    </tr>\n",
       "    <tr>\n",
       "      <th>4</th>\n",
       "      <td>0</td>\n",
       "      <td>1</td>\n",
       "      <td>0</td>\n",
       "      <td>142107.34</td>\n",
       "      <td>91391.77</td>\n",
       "      <td>366168.42</td>\n",
       "      <td>166187.94</td>\n",
       "    </tr>\n",
       "  </tbody>\n",
       "</table>\n",
       "</div>"
      ],
      "text/plain": [
       "   California  Florida  New York        RND      ADMIN        MKT     Profit\n",
       "0           0        0         1  165349.20  136897.80  471784.10  192261.83\n",
       "1           1        0         0  162597.70  151377.59  443898.53  191792.06\n",
       "2           0        1         0  153441.51  101145.55  407934.54  191050.39\n",
       "3           0        0         1  144372.41  118671.85  383199.62  182901.99\n",
       "4           0        1         0  142107.34   91391.77  366168.42  166187.94"
      ]
     },
     "execution_count": 33,
     "metadata": {},
     "output_type": "execute_result"
    }
   ],
   "source": [
    "newdata.head()"
   ]
  },
  {
   "cell_type": "code",
   "execution_count": 34,
   "id": "50e27714",
   "metadata": {
    "execution": {
     "iopub.execute_input": "2022-02-16T07:37:22.093621Z",
     "iopub.status.busy": "2022-02-16T07:37:22.092674Z",
     "iopub.status.idle": "2022-02-16T07:37:22.299451Z",
     "shell.execute_reply": "2022-02-16T07:37:22.299895Z",
     "shell.execute_reply.started": "2022-02-16T07:35:35.314468Z"
    },
    "id": "174e9c85",
    "outputId": "9bfbd1c1-3b16-49b0-93e5-c27385202caf",
    "papermill": {
     "duration": 0.285869,
     "end_time": "2022-02-16T07:37:22.300087",
     "exception": false,
     "start_time": "2022-02-16T07:37:22.014218",
     "status": "completed"
    },
    "tags": []
   },
   "outputs": [
    {
     "data": {
      "text/plain": [
       "<matplotlib.collections.PathCollection at 0x7ff6a054b2d0>"
      ]
     },
     "execution_count": 34,
     "metadata": {},
     "output_type": "execute_result"
    },
    {
     "data": {
      "image/png": "[encoded data removed]",
      "text/plain": [
       "<Figure size 432x288 with 1 Axes>"
      ]
     },
     "metadata": {
      "needs_background": "light"
     },
     "output_type": "display_data"
    }
   ],
   "source": [
    "Xm=newdata.iloc[:,[5]].values\n",
    "plt.scatter(Xm,y)"
   ]
  },
  {
   "cell_type": "code",
   "execution_count": 35,
   "id": "05e45036",
   "metadata": {
    "execution": {
     "iopub.execute_input": "2022-02-16T07:37:22.450863Z",
     "iopub.status.busy": "2022-02-16T07:37:22.449936Z",
     "iopub.status.idle": "2022-02-16T07:37:22.454754Z",
     "shell.execute_reply": "2022-02-16T07:37:22.455209Z",
     "shell.execute_reply.started": "2022-02-16T07:35:35.531375Z"
    },
    "id": "06cb8ee1",
    "papermill": {
     "duration": 0.081819,
     "end_time": "2022-02-16T07:37:22.455390",
     "exception": false,
     "start_time": "2022-02-16T07:37:22.373571",
     "status": "completed"
    },
    "tags": []
   },
   "outputs": [],
   "source": [
    "from sklearn.model_selection import train_test_split\n",
    "Xm_train,Xm_test, ym_train,ym_test=train_test_split(Xm,y,test_size=1/3, random_state=0)"
   ]
  },
  {
   "cell_type": "code",
   "execution_count": 36,
   "id": "6e0c0004",
   "metadata": {
    "execution": {
     "iopub.execute_input": "2022-02-16T07:37:22.606587Z",
     "iopub.status.busy": "2022-02-16T07:37:22.605643Z",
     "iopub.status.idle": "2022-02-16T07:37:22.614196Z",
     "shell.execute_reply": "2022-02-16T07:37:22.613626Z",
     "shell.execute_reply.started": "2022-02-16T07:35:35.537826Z"
    },
    "id": "d527398c",
    "outputId": "f96c392c-340d-4f8b-8e83-0e7619cc3178",
    "papermill": {
     "duration": 0.084898,
     "end_time": "2022-02-16T07:37:22.614363",
     "exception": false,
     "start_time": "2022-02-16T07:37:22.529465",
     "status": "completed"
    },
    "tags": []
   },
   "outputs": [
    {
     "data": {
      "text/plain": [
       "LinearRegression()"
      ]
     },
     "execution_count": 36,
     "metadata": {},
     "output_type": "execute_result"
    }
   ],
   "source": [
    "from sklearn.linear_model import LinearRegression\n",
    "reg=LinearRegression()\n",
    "reg.fit(Xm_train,ym_train)"
   ]
  },
  {
   "cell_type": "code",
   "execution_count": 37,
   "id": "8a9455bb",
   "metadata": {
    "execution": {
     "iopub.execute_input": "2022-02-16T07:37:22.771507Z",
     "iopub.status.busy": "2022-02-16T07:37:22.770593Z",
     "iopub.status.idle": "2022-02-16T07:37:22.774534Z",
     "shell.execute_reply": "2022-02-16T07:37:22.775027Z",
     "shell.execute_reply.started": "2022-02-16T07:35:35.557199Z"
    },
    "id": "0b903bb7",
    "papermill": {
     "duration": 0.084027,
     "end_time": "2022-02-16T07:37:22.775215",
     "exception": false,
     "start_time": "2022-02-16T07:37:22.691188",
     "status": "completed"
    },
    "tags": []
   },
   "outputs": [],
   "source": [
    "ym_pred=reg.predict(Xm_test)"
   ]
  },
  {
   "cell_type": "code",
   "execution_count": 38,
   "id": "7c9338f3",
   "metadata": {
    "execution": {
     "iopub.execute_input": "2022-02-16T07:37:22.930250Z",
     "iopub.status.busy": "2022-02-16T07:37:22.929262Z",
     "iopub.status.idle": "2022-02-16T07:37:23.132341Z",
     "shell.execute_reply": "2022-02-16T07:37:23.132809Z",
     "shell.execute_reply.started": "2022-02-16T07:35:35.568984Z"
    },
    "id": "4eec2e8d",
    "outputId": "2b966d53-69fa-4b13-cbb7-21966d0203b0",
    "papermill": {
     "duration": 0.282363,
     "end_time": "2022-02-16T07:37:23.133023",
     "exception": false,
     "start_time": "2022-02-16T07:37:22.850660",
     "status": "completed"
    },
    "tags": []
   },
   "outputs": [
    {
     "data": {
      "image/png": "[encoded data removed]",
      "text/plain": [
       "<Figure size 432x288 with 1 Axes>"
      ]
     },
     "metadata": {
      "needs_background": "light"
     },
     "output_type": "display_data"
    }
   ],
   "source": [
    "#visualize training data\n",
    "plt.scatter(Xm_train,ym_train,color = 'red')\n",
    "plt.plot(Xm_train,reg.predict(Xm_train),color='blue')\n",
    "plt.title(\"MKT vs Profit - Training\")\n",
    "plt.xlabel(\"MKT\")\n",
    "plt.ylabel(\"PROFIT\")\n",
    "plt.show()"
   ]
  },
  {
   "cell_type": "code",
   "execution_count": 39,
   "id": "e4ba615d",
   "metadata": {
    "execution": {
     "iopub.execute_input": "2022-02-16T07:37:23.289134Z",
     "iopub.status.busy": "2022-02-16T07:37:23.288117Z",
     "iopub.status.idle": "2022-02-16T07:37:23.487135Z",
     "shell.execute_reply": "2022-02-16T07:37:23.486422Z",
     "shell.execute_reply.started": "2022-02-16T07:35:35.776842Z"
    },
    "id": "2bfc68d9",
    "outputId": "78081798-e19b-4737-eb67-70f4d24ceea4",
    "papermill": {
     "duration": 0.278611,
     "end_time": "2022-02-16T07:37:23.487300",
     "exception": false,
     "start_time": "2022-02-16T07:37:23.208689",
     "status": "completed"
    },
    "tags": []
   },
   "outputs": [
    {
     "data": {
      "image/png": "[encoded data removed]",
      "text/plain": [
       "<Figure size 432x288 with 1 Axes>"
      ]
     },
     "metadata": {
      "needs_background": "light"
     },
     "output_type": "display_data"
    }
   ],
   "source": [
    "#visualize test data\n",
    "plt.scatter(Xm_test,ym_test,color = 'red')\n",
    "plt.plot(Xm_train,reg.predict(Xm_train),color='blue')\n",
    "plt.title(\"MKT vs Profit - Test\")\n",
    "plt.xlabel(\"MKT\")\n",
    "plt.ylabel(\"PROFIT\")\n",
    "plt.show()"
   ]
  },
  {
   "cell_type": "code",
   "execution_count": 40,
   "id": "57b362ec",
   "metadata": {
    "execution": {
     "iopub.execute_input": "2022-02-16T07:37:23.650798Z",
     "iopub.status.busy": "2022-02-16T07:37:23.650125Z",
     "iopub.status.idle": "2022-02-16T07:37:23.653533Z",
     "shell.execute_reply": "2022-02-16T07:37:23.652967Z",
     "shell.execute_reply.started": "2022-02-16T07:35:35.981893Z"
    },
    "id": "8deda42b",
    "outputId": "d4e5082a-635b-4d8b-df65-24a72a905072",
    "papermill": {
     "duration": 0.087957,
     "end_time": "2022-02-16T07:37:23.653680",
     "exception": false,
     "start_time": "2022-02-16T07:37:23.565723",
     "status": "completed"
    },
    "tags": []
   },
   "outputs": [
    {
     "name": "stdout",
     "output_type": "stream",
     "text": [
      "Training Accuracy: 55.96%\n",
      "Test Accuracy: 51.81%\n"
     ]
    }
   ],
   "source": [
    "trainacc=round(reg.score(Xm_train,ym_train)*100,2)\n",
    "testacc=round(reg.score(Xm_test,ym_test)*100,2)\n",
    "print(f'Training Accuracy: {trainacc}%')\n",
    "print(f'Test Accuracy: {testacc}%')"
   ]
  },
  {
   "cell_type": "code",
   "execution_count": 41,
   "id": "c579fc5e",
   "metadata": {
    "execution": {
     "iopub.execute_input": "2022-02-16T07:37:23.817129Z",
     "iopub.status.busy": "2022-02-16T07:37:23.816461Z",
     "iopub.status.idle": "2022-02-16T07:37:23.821526Z",
     "shell.execute_reply": "2022-02-16T07:37:23.822042Z",
     "shell.execute_reply.started": "2022-02-16T07:35:35.991028Z"
    },
    "id": "d01885f3",
    "outputId": "a95467de-2ccd-462e-e1e7-dc038acacf54",
    "papermill": {
     "duration": 0.091704,
     "end_time": "2022-02-16T07:37:23.822272",
     "exception": false,
     "start_time": "2022-02-16T07:37:23.730568",
     "status": "completed"
    },
    "tags": []
   },
   "outputs": [
    {
     "name": "stdout",
     "output_type": "stream",
     "text": [
      "r2 score is 0.5181\n",
      "mean_sqrd_error is== 457228472.7164\n",
      "root_mean_squared error of is== 21382.901410154387\n"
     ]
    }
   ],
   "source": [
    "from sklearn.metrics import r2_score\n",
    "from sklearn.metrics import mean_squared_error\n",
    "score=r2_score(ym_test,ym_pred)\n",
    "print(\"r2 score is\",round(score, 4))\n",
    "print(\"mean_sqrd_error is==\",round(mean_squared_error(ym_test,ym_pred),4))\n",
    "print(\"root_mean_squared error of is==\",np.sqrt(mean_squared_error(ym_test,ym_pred)))"
   ]
  },
  {
   "cell_type": "markdown",
   "id": "cf5cef05",
   "metadata": {
    "id": "0e121b9f",
    "papermill": {
     "duration": 0.077474,
     "end_time": "2022-02-16T07:37:23.979259",
     "exception": false,
     "start_time": "2022-02-16T07:37:23.901785",
     "status": "completed"
    },
    "tags": []
   },
   "source": [
    "Multiple Linear Regression"
   ]
  },
  {
   "cell_type": "code",
   "execution_count": 42,
   "id": "021b9be7",
   "metadata": {
    "execution": {
     "iopub.execute_input": "2022-02-16T07:37:24.151049Z",
     "iopub.status.busy": "2022-02-16T07:37:24.150007Z",
     "iopub.status.idle": "2022-02-16T07:37:24.154325Z",
     "shell.execute_reply": "2022-02-16T07:37:24.153775Z",
     "shell.execute_reply.started": "2022-02-16T07:35:36.006194Z"
    },
    "id": "fe230d7c",
    "outputId": "f8142293-cb02-4879-94fc-c4912bc2e06a",
    "papermill": {
     "duration": 0.095926,
     "end_time": "2022-02-16T07:37:24.154485",
     "exception": false,
     "start_time": "2022-02-16T07:37:24.058559",
     "status": "completed"
    },
    "tags": []
   },
   "outputs": [
    {
     "data": {
      "text/html": [
       "<div>\n",
       "<style scoped>\n",
       "    .dataframe tbody tr th:only-of-type {\n",
       "        vertical-align: middle;\n",
       "    }\n",
       "\n",
       "    .dataframe tbody tr th {\n",
       "        vertical-align: top;\n",
       "    }\n",
       "\n",
       "    .dataframe thead th {\n",
       "        text-align: right;\n",
       "    }\n",
       "</style>\n",
       "<table border=\"1\" class=\"dataframe\">\n",
       "  <thead>\n",
       "    <tr style=\"text-align: right;\">\n",
       "      <th></th>\n",
       "      <th>California</th>\n",
       "      <th>Florida</th>\n",
       "      <th>New York</th>\n",
       "      <th>RND</th>\n",
       "      <th>ADMIN</th>\n",
       "      <th>MKT</th>\n",
       "      <th>Profit</th>\n",
       "    </tr>\n",
       "  </thead>\n",
       "  <tbody>\n",
       "    <tr>\n",
       "      <th>0</th>\n",
       "      <td>0</td>\n",
       "      <td>0</td>\n",
       "      <td>1</td>\n",
       "      <td>165349.20</td>\n",
       "      <td>136897.80</td>\n",
       "      <td>471784.10</td>\n",
       "      <td>192261.83</td>\n",
       "    </tr>\n",
       "    <tr>\n",
       "      <th>1</th>\n",
       "      <td>1</td>\n",
       "      <td>0</td>\n",
       "      <td>0</td>\n",
       "      <td>162597.70</td>\n",
       "      <td>151377.59</td>\n",
       "      <td>443898.53</td>\n",
       "      <td>191792.06</td>\n",
       "    </tr>\n",
       "    <tr>\n",
       "      <th>2</th>\n",
       "      <td>0</td>\n",
       "      <td>1</td>\n",
       "      <td>0</td>\n",
       "      <td>153441.51</td>\n",
       "      <td>101145.55</td>\n",
       "      <td>407934.54</td>\n",
       "      <td>191050.39</td>\n",
       "    </tr>\n",
       "    <tr>\n",
       "      <th>3</th>\n",
       "      <td>0</td>\n",
       "      <td>0</td>\n",
       "      <td>1</td>\n",
       "      <td>144372.41</td>\n",
       "      <td>118671.85</td>\n",
       "      <td>383199.62</td>\n",
       "      <td>182901.99</td>\n",
       "    </tr>\n",
       "    <tr>\n",
       "      <th>4</th>\n",
       "      <td>0</td>\n",
       "      <td>1</td>\n",
       "      <td>0</td>\n",
       "      <td>142107.34</td>\n",
       "      <td>91391.77</td>\n",
       "      <td>366168.42</td>\n",
       "      <td>166187.94</td>\n",
       "    </tr>\n",
       "  </tbody>\n",
       "</table>\n",
       "</div>"
      ],
      "text/plain": [
       "   California  Florida  New York        RND      ADMIN        MKT     Profit\n",
       "0           0        0         1  165349.20  136897.80  471784.10  192261.83\n",
       "1           1        0         0  162597.70  151377.59  443898.53  191792.06\n",
       "2           0        1         0  153441.51  101145.55  407934.54  191050.39\n",
       "3           0        0         1  144372.41  118671.85  383199.62  182901.99\n",
       "4           0        1         0  142107.34   91391.77  366168.42  166187.94"
      ]
     },
     "execution_count": 42,
     "metadata": {},
     "output_type": "execute_result"
    }
   ],
   "source": [
    "newdata.head()"
   ]
  },
  {
   "cell_type": "code",
   "execution_count": 43,
   "id": "704b1c26",
   "metadata": {
    "execution": {
     "iopub.execute_input": "2022-02-16T07:37:24.317928Z",
     "iopub.status.busy": "2022-02-16T07:37:24.316938Z",
     "iopub.status.idle": "2022-02-16T07:37:24.320170Z",
     "shell.execute_reply": "2022-02-16T07:37:24.319487Z",
     "shell.execute_reply.started": "2022-02-16T07:35:36.027963Z"
    },
    "id": "5127afaf",
    "papermill": {
     "duration": 0.088074,
     "end_time": "2022-02-16T07:37:24.320332",
     "exception": false,
     "start_time": "2022-02-16T07:37:24.232258",
     "status": "completed"
    },
    "tags": []
   },
   "outputs": [],
   "source": [
    "XM=newdata.iloc[:,[0,1,2,3,5]].values\n",
    "#drop admin no correlation"
   ]
  },
  {
   "cell_type": "code",
   "execution_count": 44,
   "id": "15547686",
   "metadata": {
    "execution": {
     "iopub.execute_input": "2022-02-16T07:37:24.482823Z",
     "iopub.status.busy": "2022-02-16T07:37:24.481959Z",
     "iopub.status.idle": "2022-02-16T07:37:24.486132Z",
     "shell.execute_reply": "2022-02-16T07:37:24.485544Z",
     "shell.execute_reply.started": "2022-02-16T07:35:36.042208Z"
    },
    "id": "802bbffe",
    "papermill": {
     "duration": 0.087924,
     "end_time": "2022-02-16T07:37:24.486297",
     "exception": false,
     "start_time": "2022-02-16T07:37:24.398373",
     "status": "completed"
    },
    "tags": []
   },
   "outputs": [],
   "source": [
    "from sklearn.model_selection import train_test_split\n",
    "XM_train,XM_test, yM_train,yM_test=train_test_split(XM,y,test_size=0.2, random_state=0)"
   ]
  },
  {
   "cell_type": "code",
   "execution_count": 45,
   "id": "f0bfb720",
   "metadata": {
    "execution": {
     "iopub.execute_input": "2022-02-16T07:37:24.651232Z",
     "iopub.status.busy": "2022-02-16T07:37:24.650522Z",
     "iopub.status.idle": "2022-02-16T07:37:24.654392Z",
     "shell.execute_reply": "2022-02-16T07:37:24.655315Z",
     "shell.execute_reply.started": "2022-02-16T07:35:36.055447Z"
    },
    "id": "6c88ad8a",
    "outputId": "3d166ef2-80a6-4e36-9b13-15d300ee6527",
    "papermill": {
     "duration": 0.091262,
     "end_time": "2022-02-16T07:37:24.655600",
     "exception": false,
     "start_time": "2022-02-16T07:37:24.564338",
     "status": "completed"
    },
    "tags": []
   },
   "outputs": [
    {
     "data": {
      "text/plain": [
       "LinearRegression()"
      ]
     },
     "execution_count": 45,
     "metadata": {},
     "output_type": "execute_result"
    }
   ],
   "source": [
    "from sklearn.linear_model import LinearRegression\n",
    "regressor = LinearRegression()\n",
    "regressor.fit(XM_train, yM_train)"
   ]
  },
  {
   "cell_type": "code",
   "execution_count": 46,
   "id": "2c18472c",
   "metadata": {
    "execution": {
     "iopub.execute_input": "2022-02-16T07:37:24.818341Z",
     "iopub.status.busy": "2022-02-16T07:37:24.817630Z",
     "iopub.status.idle": "2022-02-16T07:37:24.824805Z",
     "shell.execute_reply": "2022-02-16T07:37:24.825482Z",
     "shell.execute_reply.started": "2022-02-16T07:35:36.074235Z"
    },
    "id": "e7d5e3f3",
    "outputId": "565c0970-c9aa-4168-b3af-a4a950d5dc6d",
    "papermill": {
     "duration": 0.091803,
     "end_time": "2022-02-16T07:37:24.825714",
     "exception": false,
     "start_time": "2022-02-16T07:37:24.733911",
     "status": "completed"
    },
    "tags": []
   },
   "outputs": [
    {
     "name": "stdout",
     "output_type": "stream",
     "text": [
      "[[101374.28 103282.38]\n",
      " [133851.24 144259.4 ]\n",
      " [133300.28 146121.95]\n",
      " [ 72987.32  77798.83]\n",
      " [179827.91 191050.39]\n",
      " [115491.25 105008.31]\n",
      " [ 69057.75  81229.06]\n",
      " [ 97880.01  97483.56]\n",
      " [113898.44 110352.25]\n",
      " [169510.76 166187.94]]\n"
     ]
    }
   ],
   "source": [
    "yM_pred = regressor.predict(XM_test)\n",
    "np.set_printoptions(precision=2)\n",
    "print(np.concatenate((yM_pred.reshape(len(yM_pred),1), yM_test.reshape(len(yM_test),1)),1))"
   ]
  },
  {
   "cell_type": "code",
   "execution_count": 47,
   "id": "eee7a0c9",
   "metadata": {
    "execution": {
     "iopub.execute_input": "2022-02-16T07:37:25.020400Z",
     "iopub.status.busy": "2022-02-16T07:37:25.019375Z",
     "iopub.status.idle": "2022-02-16T07:37:25.022877Z",
     "shell.execute_reply": "2022-02-16T07:37:25.023502Z",
     "shell.execute_reply.started": "2022-02-16T07:35:36.082250Z"
    },
    "id": "ef30a44a",
    "outputId": "8daf2330-0fc1-48af-b5ac-9bb59ff1315b",
    "papermill": {
     "duration": 0.103114,
     "end_time": "2022-02-16T07:37:25.023668",
     "exception": false,
     "start_time": "2022-02-16T07:37:24.920554",
     "status": "completed"
    },
    "tags": []
   },
   "outputs": [
    {
     "name": "stdout",
     "output_type": "stream",
     "text": [
      "r2 score is 0.9447\n",
      "mean_sqrd_error is== 70726699.1448\n",
      "root_mean_squared error of is== 8409.916714495785\n"
     ]
    }
   ],
   "source": [
    "from sklearn.metrics import r2_score\n",
    "from sklearn.metrics import mean_squared_error\n",
    "score=r2_score(yM_test,yM_pred)\n",
    "print(\"r2 score is\",round(score, 4))\n",
    "print(\"mean_sqrd_error is==\",round(mean_squared_error(yM_test,yM_pred),4))\n",
    "print(\"root_mean_squared error of is==\",np.sqrt(mean_squared_error(yM_test,yM_pred)))"
   ]
  }
 ],
 "metadata": {
  "kernelspec": {
   "display_name": "Python 3",
   "language": "python",
   "name": "python3"
  },
  "language_info": {
   "codemirror_mode": {
    "name": "ipython",
    "version": 3
   },
   "file_extension": ".py",
   "mimetype": "text/x-python",
   "name": "python",
   "nbconvert_exporter": "python",
   "pygments_lexer": "ipython3",
   "version": "3.7.12"
  },
  "papermill": {
   "default_parameters": {},
   "duration": 27.018585,
   "end_time": "2022-02-16T07:37:25.921956",
   "environment_variables": {},
   "exception": null,
   "input_path": "__notebook__.ipynb",
   "output_path": "__notebook__.ipynb",
   "parameters": {},
   "start_time": "2022-02-16T07:36:58.903371",
   "version": "2.3.3"
  }
 },
 "nbformat": 4,
 "nbformat_minor": 5
}
